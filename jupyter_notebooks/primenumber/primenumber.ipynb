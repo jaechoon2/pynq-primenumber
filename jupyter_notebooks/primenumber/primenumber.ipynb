{
 "cells": [
  {
   "cell_type": "markdown",
   "metadata": {},
   "source": [
    "# Prime Number - HLS\n",
    "### Time Execution Test "
   ]
  },
  {
   "cell_type": "code",
   "execution_count": 1,
   "metadata": {
    "collapsed": false
   },
   "outputs": [
    {
     "name": "stdout",
     "output_type": "stream",
     "text": [
      "Calculating...\n"
     ]
    }
   ],
   "source": [
    "import time\n",
    "from pynq import Overlay\n",
    "from pynq import MMIO\n",
    "ol = Overlay(\"/home/xilinx/jupyter_notebooks/PrimeNumber/primenumber.bit\")\n",
    "ol.download()\n",
    "primenumber_ip = MMIO(0X40000000, 0X10000)\n",
    "primenumber_ip.write(0x10,100000)\n",
    "primenumber_ip.write(0x00,1)\n",
    "start = time.time()\n",
    "print(\"Calculating...\")\n",
    "# Waiting for conclusion of calculation, checking port status\n",
    "while(primenumber_ip.read(0x00)!=4):\n",
    "    1"
   ]
  },
  {
   "cell_type": "code",
   "execution_count": 2,
   "metadata": {
    "collapsed": false
   },
   "outputs": [
    {
     "name": "stdout",
     "output_type": "stream",
     "text": [
      "Done! Status: 4, Time: 33.731s\n",
      "The 100000 prime number is 1299709\n"
     ]
    }
   ],
   "source": [
    "end = time.time()\n",
    "print(\"Done! Status: %i, Time: %.3fs\"%(primenumber_ip.read(0x00),end-start))\n",
    "print(\"The %i prime number is %i\"%(primenumber_ip.read(0x10),primenumber_ip.read(0x18)))"
   ]
  },
  {
   "cell_type": "markdown",
   "metadata": {},
   "source": [
    "# Prime Number - Python Code\n",
    "### Time Execution Test "
   ]
  },
  {
   "cell_type": "code",
   "execution_count": 3,
   "metadata": {
    "collapsed": false
   },
   "outputs": [
    {
     "name": "stdout",
     "output_type": "stream",
     "text": [
      "The 100000 prime number is 1299709, elapsed time: 63.580s\n"
     ]
    }
   ],
   "source": [
    "import math\n",
    "import time\n",
    "\n",
    "count = 2\n",
    "prime = [2,3]\n",
    "number = 3\n",
    "position = 100000\n",
    "start = time.time()\n",
    "while count < position:\n",
    "    number+= 2\n",
    "    isprime = True\n",
    "    rootnumber = math.sqrt(number)\n",
    "    for i in prime:\n",
    "    \tif(number%i==0):\n",
    "    \t\tisprime = False\n",
    "    \t\tbreak\n",
    "    \tif(rootnumber<=i):\n",
    "    \t\tbreak\n",
    "    if(isprime):\n",
    "    \tprime.append(number)\n",
    "    \tcount+= 1\n",
    "\n",
    "end = time.time()\n",
    "print(\"The %i prime number is %i, elapsed time: %.3fs\"%(position, prime[position-1],end-start))"
   ]
  },
  {
   "cell_type": "markdown",
   "metadata": {},
   "source": [
    "# Prime Number - Compiled C++\n",
    "### Time Execution Test "
   ]
  },
  {
   "cell_type": "code",
   "execution_count": 4,
   "metadata": {
    "collapsed": false
   },
   "outputs": [
    {
     "name": "stdout",
     "output_type": "stream",
     "text": [
      "Time: 13.425s\r\n",
      "The 100000 prime number is 1299709\r\n"
     ]
    }
   ],
   "source": [
    "!./primenumber 100000"
   ]
  },
  {
   "cell_type": "markdown",
   "metadata": {},
   "source": [
    "### End"
   ]
  }
 ],
 "metadata": {
  "kernelspec": {
   "display_name": "Python 3",
   "language": "python",
   "name": "python3"
  },
  "language_info": {
   "codemirror_mode": {
    "name": "ipython",
    "version": 3
   },
   "file_extension": ".py",
   "mimetype": "text/x-python",
   "name": "python",
   "nbconvert_exporter": "python",
   "pygments_lexer": "ipython3",
   "version": "3.4.3+"
  }
 },
 "nbformat": 4,
 "nbformat_minor": 1
}
