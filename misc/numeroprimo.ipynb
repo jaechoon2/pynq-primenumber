{
 "cells": [
  {
   "cell_type": "markdown",
   "metadata": {},
   "source": [
    "# Prime Number - Overlay\n",
    "### Time Execution Test "
   ]
  },
  {
   "cell_type": "code",
   "execution_count": 80,
   "metadata": {
    "collapsed": true
   },
   "outputs": [],
   "source": [
    "import time\n",
    "from pynq import Overlay\n",
    "from pynq import MMIO\n",
    "ol = Overlay(\"/home/xilinx/jupyter_notebooks/NumeroPrimo/numeroprimo.bit\")\n",
    "ol.download()\n",
    "numeroprimo_ip = MMIO(0X43C00000, 0X10000)\n",
    "numeroprimo_ip.write(0x10,100000)\n",
    "numeroprimo_ip.write(0x00,1)"
   ]
  },
  {
   "cell_type": "code",
   "execution_count": 81,
   "metadata": {
    "collapsed": false
   },
   "outputs": [
    {
     "name": "stdout",
     "output_type": "stream",
     "text": [
      "Calculating...\n"
     ]
    }
   ],
   "source": [
    "#count=0\n",
    "start = time.time()\n",
    "print(\"Calculating...\")\n",
    "# Waiting for conclusion of calculation, checking port status\n",
    "while(numeroprimo_ip.read(0x00)!=4):\n",
    "    1"
   ]
  },
  {
   "cell_type": "code",
   "execution_count": 82,
   "metadata": {
    "collapsed": false
   },
   "outputs": [
    {
     "name": "stdout",
     "output_type": "stream",
     "text": [
      "Done! Status: 4, Time: 29.494s\n",
      "The 100000 prime number is 1299709\n"
     ]
    }
   ],
   "source": [
    "end = time.time()\n",
    "print(\"Done! Status: %i, Time: %.3fs\"%(numeroprimo_ip.read(0x00),end-start))\n",
    "print(\"The %i prime number is %i\"%(numeroprimo_ip.read(0x10),numeroprimo_ip.read(0x18)))"
   ]
  },
  {
   "cell_type": "markdown",
   "metadata": {
    "collapsed": false
   },
   "source": [
    "# Prime Number - Python Code\n",
    "### Time Execution Test "
   ]
  },
  {
   "cell_type": "code",
   "execution_count": 83,
   "metadata": {
    "collapsed": false
   },
   "outputs": [
    {
     "name": "stdout",
     "output_type": "stream",
     "text": [
      "The 100000 prime number is 1299709, elapsed time: 64.669s\n"
     ]
    }
   ],
   "source": [
    "import math\n",
    "import time\n",
    "\n",
    "count = 2\n",
    "prime = [2,3]\n",
    "number = 3\n",
    "position = 100000\n",
    "start = time.time()\n",
    "while count < position:\n",
    "    number+= 2\n",
    "    isprime = True\n",
    "    rootnumber = math.sqrt(number)\n",
    "    for i in prime:\n",
    "    \tif(number%i==0):\n",
    "    \t\tisprime = False\n",
    "    \t\tbreak\n",
    "    \tif(rootnumber<=i):\n",
    "    \t\tbreak\n",
    "    if(isprime):\n",
    "    \tprime.append(number)\n",
    "    \tcount+= 1\n",
    "\n",
    "end = time.time()\n",
    "print(\"The %i prime number is %i, elapsed time: %.3fs\"%(position, prime[position-1],end-start))"
   ]
  },
  {
   "cell_type": "markdown",
   "metadata": {},
   "source": [
    "# Prime Number - C++ compided code\n",
    "### Time Execution Test "
   ]
  },
  {
   "cell_type": "code",
   "execution_count": 84,
   "metadata": {
    "collapsed": false
   },
   "outputs": [
    {
     "name": "stdout",
     "output_type": "stream",
     "text": [
      "Time: 14.1259s\r\n",
      "Numero Primo: 1299709, na posicao 100000\r\n"
     ]
    }
   ],
   "source": [
    "!./numeroprimo"
   ]
  },
  {
   "cell_type": "markdown",
   "metadata": {},
   "source": [
    "# End"
   ]
  }
 ],
 "metadata": {
  "kernelspec": {
   "display_name": "Python 3",
   "language": "python",
   "name": "python3"
  },
  "language_info": {
   "codemirror_mode": {
    "name": "ipython",
    "version": 3
   },
   "file_extension": ".py",
   "mimetype": "text/x-python",
   "name": "python",
   "nbconvert_exporter": "python",
   "pygments_lexer": "ipython3",
   "version": "3.4.3+"
  }
 },
 "nbformat": 4,
 "nbformat_minor": 1
}
